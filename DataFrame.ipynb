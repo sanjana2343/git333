{
  "nbformat": 4,
  "nbformat_minor": 0,
  "metadata": {
    "colab": {
      "provenance": [],
      "authorship_tag": "ABX9TyP3zLC+ecJO4E/sAhefvF8q",
      "include_colab_link": true
    },
    "kernelspec": {
      "name": "python3",
      "display_name": "Python 3"
    },
    "language_info": {
      "name": "python"
    }
  },
  "cells": [
    {
      "cell_type": "markdown",
      "metadata": {
        "id": "view-in-github",
        "colab_type": "text"
      },
      "source": [
        "<a href=\"https://colab.research.google.com/github/sanjana2343/git333/blob/main/DataFrame.ipynb\" target=\"_parent\"><img src=\"https://colab.research.google.com/assets/colab-badge.svg\" alt=\"Open In Colab\"/></a>"
      ]
    },
    {
      "cell_type": "code",
      "execution_count": null,
      "metadata": {
        "colab": {
          "base_uri": "https://localhost:8080/"
        },
        "id": "m58k_usZtFTr",
        "outputId": "715c1b07-fed0-4f7f-8713-7aa746864241"
      },
      "outputs": [
        {
          "output_type": "stream",
          "name": "stdout",
          "text": [
            "    name  Age      city\n",
            "0   Rupa   25  Bagalkot\n",
            "1   sita   30   solapur\n",
            "2  Getha   35  Gulbarga\n"
          ]
        }
      ],
      "source": [
        "import pandas as pd\n",
        "data={'name':['Rupa','sita','Getha'],\n",
        "'Age':[25,30,35],\n",
        "'city':['Bagalkot','solapur','Gulbarga']}\n",
        "df=pd.DataFrame(data)\n",
        "print(df)"
      ]
    },
    {
      "cell_type": "code",
      "source": [],
      "metadata": {
        "id": "xIZdaoPYudzE"
      },
      "execution_count": null,
      "outputs": []
    },
    {
      "cell_type": "code",
      "execution_count": null,
      "metadata": {
        "colab": {
          "base_uri": "https://localhost:8080/",
          "height": 106
        },
        "outputId": "b7d86fe5-73db-4d03-c64f-96baffdeeb7e",
        "id": "QLjkn6eAusWO"
      },
      "outputs": [
        {
          "output_type": "error",
          "ename": "SyntaxError",
          "evalue": "unterminated string literal (detected at line 5) (ipython-input-8-875944672.py, line 5)",
          "traceback": [
            "\u001b[0;36m  File \u001b[0;32m\"/tmp/ipython-input-8-875944672.py\"\u001b[0;36m, line \u001b[0;32m5\u001b[0m\n\u001b[0;31m    df=sorted=df.sort_values(by='Age',ascending=False')\u001b[0m\n\u001b[0m                                                     ^\u001b[0m\n\u001b[0;31mSyntaxError\u001b[0m\u001b[0;31m:\u001b[0m unterminated string literal (detected at line 5)\n"
          ]
        }
      ],
      "source": [
        "import pandas as pd\n",
        "data={'name':['Rupa','sita','Getha'],\n",
        "'Age':[25,30,35],\n",
        "'city':['Bagalkot','solapur','Gulbarga']}\n",
        "df=sorted=df.sort_values(by='Age',ascending=False')\n",
        "print(df_sorted)"
      ]
    },
    {
      "cell_type": "code",
      "source": [],
      "metadata": {
        "id": "P0m6fcKtvRMj"
      },
      "execution_count": null,
      "outputs": []
    },
    {
      "cell_type": "code",
      "execution_count": null,
      "metadata": {
        "colab": {
          "base_uri": "https://localhost:8080/"
        },
        "outputId": "207792f8-72d8-4c85-99fa-8c8bb8e7085c",
        "id": "LVxTq_lovYpy"
      },
      "outputs": [
        {
          "output_type": "stream",
          "name": "stdout",
          "text": [
            "new dataFrame after inserting new column'Salary'\n",
            "    name  Age      city  salary\n",
            "0   Rupa   25  Bagalkot   50000\n",
            "1   sita   30   solapur   60000\n",
            "2  Getha   35  Gulbarga   70000\n"
          ]
        }
      ],
      "source": [
        "import pandas as pd\n",
        "data={'name':['Rupa','sita','Getha'],\n",
        "      'Age':[25,30,35],\n",
        "      'city':['Bagalkot','solapur','Gulbarga']}\n",
        "df=pd.DataFrame(data)\n",
        "salary=[50000,60000,70000]\n",
        "df['salary']=salary\n",
        "print(\"new dataFrame after inserting new column'Salary'\")\n",
        "print(df)"
      ]
    },
    {
      "cell_type": "code",
      "source": [],
      "metadata": {
        "id": "jgZ90Xh1x1b5"
      },
      "execution_count": null,
      "outputs": []
    },
    {
      "cell_type": "code",
      "execution_count": null,
      "metadata": {
        "colab": {
          "base_uri": "https://localhost:8080/"
        },
        "outputId": "f961f5af-fd1f-43bb-871e-f0c8fca6b6d2",
        "id": "Iq2p6L6Jx2EZ"
      },
      "outputs": [
        {
          "output_type": "stream",
          "name": "stdout",
          "text": [
            "    name  age      city\n",
            "2  Getha   35  Gulbarga\n"
          ]
        }
      ],
      "source": [
        "import pandas as pd\n",
        "data={'name':['Rupa','sita','Getha'],\n",
        "      'age':[25,30,35],\n",
        "      'city':['Bagalkot','solapur','Gulbarga']}\n",
        "df=pd.DataFrame(data)\n",
        "age_above_30=df[df['age']>30]\n",
        "print(age_above_30)\n"
      ]
    },
    {
      "cell_type": "code",
      "source": [],
      "metadata": {
        "id": "ELlxnKedyh3o"
      },
      "execution_count": null,
      "outputs": []
    },
    {
      "cell_type": "code",
      "execution_count": null,
      "metadata": {
        "colab": {
          "base_uri": "https://localhost:8080/"
        },
        "outputId": "b2a05197-caae-4a7f-9a51-7ef26c20f4e7",
        "id": "wUOE7f_Vypcp"
      },
      "outputs": [
        {
          "output_type": "stream",
          "name": "stdout",
          "text": [
            "    name  age      city\n",
            "0   Rupa   25  Bagalkot\n",
            "1   sita   30  bagalkot\n",
            "2  Getha   35  Gulbarga\n"
          ]
        }
      ],
      "source": [
        "import pandas as pd\n",
        "data={'name':['Rupa','sita','Getha'],\n",
        "      'age':[25,30,35],\n",
        "      'city':['Bagalkot','solapur','Gulbarga']}\n",
        "df=pd.DataFrame(data)\n",
        "df['city']=df['city'].replace('solapur','bagalkot')\n",
        "print(df)"
      ]
    },
    {
      "cell_type": "code",
      "source": [],
      "metadata": {
        "id": "2Ar1-6whzGSn"
      },
      "execution_count": null,
      "outputs": []
    },
    {
      "cell_type": "code",
      "execution_count": null,
      "metadata": {
        "colab": {
          "base_uri": "https://localhost:8080/"
        },
        "outputId": "e9790ba6-824c-4d85-e3ef-0b826a1ca71a",
        "id": "8B4Rd00NzGwO"
      },
      "outputs": [
        {
          "output_type": "stream",
          "name": "stdout",
          "text": [
            "    name  age\n",
            "0   Rupa   25\n",
            "1   sita   30\n",
            "2  Getha   35\n"
          ]
        }
      ],
      "source": [
        "import pandas as pd\n",
        "data={'name':['Rupa','sita','Getha'],\n",
        "      'age':[25,30,35],\n",
        "      'city':['Bagalkot','solapur','Gulbarga']}\n",
        "df=pd.DataFrame(data)\n",
        "df=df.drop('city',axis=1)\n",
        "print(df)"
      ]
    },
    {
      "cell_type": "code",
      "source": [],
      "metadata": {
        "id": "Pt_y3WMGzZEP"
      },
      "execution_count": null,
      "outputs": []
    },
    {
      "cell_type": "code",
      "execution_count": null,
      "metadata": {
        "colab": {
          "base_uri": "https://localhost:8080/"
        },
        "outputId": "35a1d27a-d35c-4a2c-c895-06aa747c8922",
        "id": "bkNFbcSDzba0"
      },
      "outputs": [
        {
          "output_type": "stream",
          "name": "stdout",
          "text": [
            "average 30.0\n"
          ]
        }
      ],
      "source": [
        "import pandas as pd\n",
        "data={'name':['Rupa','sita','Getha'],\n",
        "      'age':[25,30,35],\n",
        "      'city':['Bagalkot','solapur','Gulbarga']}\n",
        "df=pd.DataFrame(data)\n",
        "average=df['age'].mean()\n",
        "print('average',average)"
      ]
    },
    {
      "cell_type": "code",
      "source": [],
      "metadata": {
        "id": "8lqBSkPI0PSm"
      },
      "execution_count": null,
      "outputs": []
    },
    {
      "cell_type": "code",
      "execution_count": null,
      "metadata": {
        "colab": {
          "base_uri": "https://localhost:8080/"
        },
        "outputId": "199f1684-e1ec-4f75-b5e6-0be049114489",
        "id": "CELd3Y6p0VJG"
      },
      "outputs": [
        {
          "output_type": "stream",
          "name": "stdout",
          "text": [
            "is anyone from bagalkot ? True\n"
          ]
        }
      ],
      "source": [
        "import pandas as pd\n",
        "data={'name':['rupa','sita','getha'],\n",
        "      'age':[25,30,35],\n",
        "      'city':['bagalkot','solapur','gulbarga']}\n",
        "df=pd.DataFrame(data)\n",
        "is_from_bagalkot=(df['city']=='bagalkot').any()\n",
        "print(\"is anyone from bagalkot ?\",is_from_bagalkot)"
      ]
    },
    {
      "cell_type": "code",
      "source": [
        "import pandas as pd\n",
        "data={'name':['rupa','sita','getha'],\n",
        "      'age':[25,30,35],\n",
        "      'city':['bagalkot','solapur','gulbarga']}\n",
        "df=pd.DataFrame(data)\n",
        "info1=df[df['name']=='sita']\n",
        "print(info1)"
      ],
      "metadata": {
        "colab": {
          "base_uri": "https://localhost:8080/"
        },
        "id": "cSoDHqX41C6Y",
        "outputId": "a55f168b-9354-4808-fdac-b713f2d5490f"
      },
      "execution_count": null,
      "outputs": [
        {
          "output_type": "stream",
          "name": "stdout",
          "text": [
            "   name  age     city\n",
            "1  sita   30  solapur\n"
          ]
        }
      ]
    },
    {
      "cell_type": "code",
      "source": [
        "import pandas as pd\n",
        "data={'name':['rupa','sita','getha'],\n",
        "      'age':[25,30,35],\n",
        "      'city':['bagalkot','solapur','gulbarga']}\n",
        "df=pd.DataFrame(data)\n",
        "count_c=df['city'].value_counts()\n",
        "print(count_c)\n"
      ],
      "metadata": {
        "colab": {
          "base_uri": "https://localhost:8080/"
        },
        "id": "OI78OCTb1b6u",
        "outputId": "303ae6c8-9bc2-4137-b3e3-a4886f506b0f"
      },
      "execution_count": null,
      "outputs": [
        {
          "output_type": "stream",
          "name": "stdout",
          "text": [
            "city\n",
            "bagalkot    1\n",
            "solapur     1\n",
            "gulbarga    1\n",
            "Name: count, dtype: int64\n"
          ]
        }
      ]
    },
    {
      "cell_type": "code",
      "source": [
        "import pandas as pd\n",
        "data={'name':['rupa','sita','getha'],\n",
        "      'age':[25,30,35],\n",
        "      'city':['bagalkot','solapur','gulbarga'],\n",
        "      'salary':[50000,60000,70000]}\n",
        "df=pd.DataFrame(data)\n",
        "max_s=df[df['salary']==df['salary'].max()]\n",
        "print(max_s)"
      ],
      "metadata": {
        "colab": {
          "base_uri": "https://localhost:8080/"
        },
        "id": "k4QbdhbD16Df",
        "outputId": "6eedf3ed-9ff7-4423-f8e5-8d3e6085bef5"
      },
      "execution_count": null,
      "outputs": [
        {
          "output_type": "stream",
          "name": "stdout",
          "text": [
            "    name  age      city  salary\n",
            "2  getha   35  gulbarga   70000\n"
          ]
        }
      ]
    },
    {
      "cell_type": "code",
      "source": [
        "import numpy as np\n",
        "arr=np.array([1,2,3,4])\n",
        "print(arr.sum())\n",
        "print(arr.mean())\n",
        "print(arr.max())\n",
        "\n",
        "\n"
      ],
      "metadata": {
        "colab": {
          "base_uri": "https://localhost:8080/"
        },
        "id": "NBKIwmxjW4sX",
        "outputId": "cf0d80e7-1b6c-4654-c5bd-894f15176be1"
      },
      "execution_count": null,
      "outputs": [
        {
          "output_type": "stream",
          "name": "stdout",
          "text": [
            "10\n",
            "2.5\n",
            "4\n"
          ]
        }
      ]
    },
    {
      "cell_type": "code",
      "source": [
        "import numpy as np\n",
        "import random\n",
        "array=np.random.randint(16,size=(4,4))\n",
        "print(\"input array:\\n\",array)\n",
        "print(\"largest number in y axis:\",np.max(array,axis=1))\n",
        "print(\"largest number in y axis:\",np.max(array,axis=0))"
      ],
      "metadata": {
        "colab": {
          "base_uri": "https://localhost:8080/"
        },
        "id": "c7ueo044YvB1",
        "outputId": "08891c81-c847-4271-9c9f-630d57399c7f"
      },
      "execution_count": null,
      "outputs": [
        {
          "output_type": "stream",
          "name": "stdout",
          "text": [
            "input array:\n",
            " [[ 8  8  7 11]\n",
            " [15  0  7  6]\n",
            " [ 7  4  3  4]\n",
            " [ 6  5 13 14]]\n",
            "largest number in y axis: [11 15  7 14]\n",
            "largest number in y axis: [15  8 13 14]\n"
          ]
        }
      ]
    },
    {
      "cell_type": "code",
      "source": [
        "import numpy as np\n",
        "import random\n",
        "array=np.random.randint(5,size=(4,4))\n",
        "print(\"input array:\\n\",array)\n",
        "print(\"Smallest  number in x axis:\",np.min(array,axis=1))\n",
        "print(\"Smallest number in y axis:\",np.min(array,axis=0))"
      ],
      "metadata": {
        "colab": {
          "base_uri": "https://localhost:8080/"
        },
        "outputId": "25a892c6-7b39-49ff-911d-a80467d7fcad",
        "id": "5SCzfpb8bXTb"
      },
      "execution_count": null,
      "outputs": [
        {
          "output_type": "stream",
          "name": "stdout",
          "text": [
            "input array:\n",
            " [[4 0 2 0]\n",
            " [3 3 1 0]\n",
            " [3 0 2 1]\n",
            " [1 3 4 1]]\n",
            "Smallest  number in x axis: [0 0 0 1]\n",
            "Smaillest number in y axis: [1 0 1 0]\n"
          ]
        }
      ]
    },
    {
      "cell_type": "code",
      "source": [
        "import numpy as np\n",
        "arr=np.array([1,2,3])\n",
        "print(arr+2)\n",
        "print(np.sin(arr))\n"
      ],
      "metadata": {
        "colab": {
          "base_uri": "https://localhost:8080/"
        },
        "id": "jVxI_4Mccc9a",
        "outputId": "2bc1a002-6873-486f-ca33-36f40c889f62"
      },
      "execution_count": null,
      "outputs": [
        {
          "output_type": "stream",
          "name": "stdout",
          "text": [
            "[3 4 5]\n",
            "[0.84147098 0.90929743 0.14112001]\n"
          ]
        }
      ]
    },
    {
      "cell_type": "code",
      "source": [
        "import numpy as np\n",
        "arr=np.array([1,2,3])\n",
        "arr2=np.array([1,2,3])\n",
        "print(arr+arr2)\n"
      ],
      "metadata": {
        "colab": {
          "base_uri": "https://localhost:8080/"
        },
        "outputId": "e07f5f93-ff26-43e7-fa1e-640fc47ece22",
        "id": "ikjYhnELdcUQ"
      },
      "execution_count": null,
      "outputs": [
        {
          "output_type": "stream",
          "name": "stdout",
          "text": [
            "[2 4 6]\n"
          ]
        }
      ]
    },
    {
      "cell_type": "code",
      "source": [
        "\n",
        "Squared=list(map(lambda x:x**2,arr))\n",
        "print(\"Squared using map:\",Squared)"
      ],
      "metadata": {
        "colab": {
          "base_uri": "https://localhost:8080/"
        },
        "outputId": "17a2a800-4ff5-4c99-e6d7-d647c33ca261",
        "id": "AD0eeD4LrqBQ"
      },
      "execution_count": null,
      "outputs": [
        {
          "output_type": "stream",
          "name": "stdout",
          "text": [
            "Squared using map: [np.int64(1), np.int64(4), np.int64(9)]\n"
          ]
        }
      ]
    },
    {
      "cell_type": "code",
      "source": [
        "def Square(number):\n",
        "  return number*number\n",
        "nums=[1,2,3,4,5]\n",
        "Squared_numbers=list(map(Square,nums))\n",
        "print(Squared_numbers)"
      ],
      "metadata": {
        "colab": {
          "base_uri": "https://localhost:8080/"
        },
        "id": "KiT6JEWHsq2Y",
        "outputId": "dfd8f8ff-6778-45f1-f4a1-d7d5997be655"
      },
      "execution_count": null,
      "outputs": [
        {
          "output_type": "stream",
          "name": "stdout",
          "text": [
            "[1, 4, 9, 16, 25]\n"
          ]
        }
      ]
    },
    {
      "cell_type": "code",
      "source": [
        "def Square(number):\n",
        "  return number*number\n",
        "num1=[1,2,3,4,5,6]\n",
        "Squareofnum1=list(map(lambda n:n*n,num1))\n",
        "print(Squareofnum1)"
      ],
      "metadata": {
        "colab": {
          "base_uri": "https://localhost:8080/"
        },
        "id": "ige8swyDvUSd",
        "outputId": "20ea983d-ac38-46e9-831b-2e81457fafcf"
      },
      "execution_count": null,
      "outputs": [
        {
          "output_type": "stream",
          "name": "stdout",
          "text": [
            "[1, 4, 9, 16, 25, 36]\n"
          ]
        }
      ]
    },
    {
      "cell_type": "code",
      "source": [
        "def is_even(n):\n",
        "  if n%2==0:\n",
        "    return True\n",
        "  else:\n",
        "      return False\n",
        "nums=[1,2,3,4]\n",
        "evens=list(filter(is_even,nums))\n",
        "print(evens)"
      ],
      "metadata": {
        "colab": {
          "base_uri": "https://localhost:8080/"
        },
        "id": "ju64O98zwrcM",
        "outputId": "d91ade6c-18e3-4530-8871-5a80760acd7c"
      },
      "execution_count": null,
      "outputs": [
        {
          "output_type": "stream",
          "name": "stdout",
          "text": [
            "[2, 4]\n"
          ]
        }
      ]
    },
    {
      "cell_type": "code",
      "source": [
        "arr=[1,2,3,4]\n",
        "even=list(filter(lambda x:x%2==0,arr))\n",
        "print(\"Even numbers:\",even)"
      ],
      "metadata": {
        "colab": {
          "base_uri": "https://localhost:8080/"
        },
        "id": "xgiat8-uyoQU",
        "outputId": "2bbed15e-82ef-4904-bec2-31f181f61fce"
      },
      "execution_count": null,
      "outputs": [
        {
          "output_type": "stream",
          "name": "stdout",
          "text": [
            "Even numbers: [2, 4]\n"
          ]
        }
      ]
    },
    {
      "cell_type": "code",
      "source": [
        "from functools import reduce\n",
        "def sum_all(a,b):\n",
        "  return a+b\n",
        "nums=[1,2,3,4]\n",
        "sum=reduce(sum_all,nums)\n",
        "print(sum)"
      ],
      "metadata": {
        "colab": {
          "base_uri": "https://localhost:8080/"
        },
        "id": "yo-HJ-lfzRRq",
        "outputId": "ed10456e-70eb-4613-ef73-783b82c01d3f"
      },
      "execution_count": null,
      "outputs": [
        {
          "output_type": "stream",
          "name": "stdout",
          "text": [
            "10\n"
          ]
        }
      ]
    },
    {
      "cell_type": "code",
      "source": [
        "from functools import reduce\n",
        "nums=[1,2,3,4]\n",
        "total=reduce(lambda x,y:x+y,nums)\n",
        "print(\"Sum using reduce:\",total)"
      ],
      "metadata": {
        "id": "am8xDXze0Z86",
        "colab": {
          "base_uri": "https://localhost:8080/"
        },
        "outputId": "5dca09cd-cf69-471c-fbf1-e06aecddee56"
      },
      "execution_count": null,
      "outputs": [
        {
          "output_type": "stream",
          "name": "stdout",
          "text": [
            "Sum using reduce: 10\n"
          ]
        }
      ]
    },
    {
      "cell_type": "code",
      "source": [
        "from functools import reduce\n",
        "nums=[1,2,3,4]\n",
        "evens=list(filter(lambda n:n%2==0,nums))\n",
        "print(evens)"
      ],
      "metadata": {
        "colab": {
          "base_uri": "https://localhost:8080/"
        },
        "id": "fKHVns_f2Jdz",
        "outputId": "66baba3f-be0d-47e5-8b08-36f58c5ec508"
      },
      "execution_count": null,
      "outputs": [
        {
          "output_type": "stream",
          "name": "stdout",
          "text": [
            "[2, 4]\n"
          ]
        }
      ]
    },
    {
      "cell_type": "code",
      "source": [
        "import pandas as pd\n",
        "data=pd.Series([10,20,30,40],index=['a','b','c','d'])\n",
        "print(data)"
      ],
      "metadata": {
        "colab": {
          "base_uri": "https://localhost:8080/"
        },
        "id": "yKX-y0xl28RP",
        "outputId": "01d34948-6ee8-4bdf-8566-0f755c8a6c8c"
      },
      "execution_count": null,
      "outputs": [
        {
          "output_type": "stream",
          "name": "stdout",
          "text": [
            "a    10\n",
            "b    20\n",
            "c    30\n",
            "d    40\n",
            "dtype: int64\n"
          ]
        }
      ]
    },
    {
      "cell_type": "code",
      "source": [
        "import pandas as pd\n",
        "data={\n",
        "    'Name':['Alice','bob','charile'],\n",
        "    'Age':[25,30,35],\n",
        "    'city':['Delhi','Mumbai','bangalore']\n",
        "}\n",
        "df=pd.DataFrame(data)\n",
        "print(df)"
      ],
      "metadata": {
        "colab": {
          "base_uri": "https://localhost:8080/"
        },
        "id": "uK7_NdxB4Imj",
        "outputId": "cca7bdca-350f-40e4-f921-f8a1f87bfed0"
      },
      "execution_count": null,
      "outputs": [
        {
          "output_type": "stream",
          "name": "stdout",
          "text": [
            "      Name  Age       city\n",
            "0    Alice   25      Delhi\n",
            "1      bob   30     Mumbai\n",
            "2  charile   35  bangalore\n"
          ]
        }
      ]
    },
    {
      "cell_type": "code",
      "source": [
        "import pandas as pd\n",
        "list=['Apple','Banana','pine apple','grapes','watermelon']\n",
        "df=pd.DataFrame(list)\n",
        "print(df)"
      ],
      "metadata": {
        "colab": {
          "base_uri": "https://localhost:8080/"
        },
        "id": "_KJZIIH45afA",
        "outputId": "d867f9ed-0dc0-4f98-a48c-fb893dc1b71c"
      },
      "execution_count": null,
      "outputs": [
        {
          "output_type": "stream",
          "name": "stdout",
          "text": [
            "            0\n",
            "0       Apple\n",
            "1      Banana\n",
            "2  pine apple\n",
            "3      grapes\n",
            "4  watermelon\n"
          ]
        }
      ]
    },
    {
      "cell_type": "code",
      "source": [
        "df=pd.read_csv('/content/student.csv')\n",
        "df.to_csv('output.csv',index=False)\n",
        "print(df)\n",
        "print(df.head())"
      ],
      "metadata": {
        "colab": {
          "base_uri": "https://localhost:8080/"
        },
        "id": "8sWLNZEA8kcs",
        "outputId": "2733092e-fe8b-4328-a0a1-d5fae644a61b"
      },
      "execution_count": null,
      "outputs": [
        {
          "output_type": "stream",
          "name": "stdout",
          "text": [
            "      name   reg.no   sub1     sub2\n",
            "0    sanvi  23cs001  maths  science\n",
            "1  sukruta  23cs002  maths  science\n",
            "2   bhoomi  23cs003  maths  science\n",
            "      name   reg.no   sub1     sub2\n",
            "0    sanvi  23cs001  maths  science\n",
            "1  sukruta  23cs002  maths  science\n",
            "2   bhoomi  23cs003  maths  science\n"
          ]
        }
      ]
    },
    {
      "cell_type": "code",
      "source": [
        "df=pd.read_csv('/content/student1.csv')\n",
        "df.to_csv('output.csv',index=False)\n",
        "print(df)\n",
        "print(df.head())\n",
        "print(df.tail())"
      ],
      "metadata": {
        "colab": {
          "base_uri": "https://localhost:8080/"
        },
        "id": "5cW_Q05ICYkI",
        "outputId": "994d9945-0fb2-4a41-f670-8949b588a770"
      },
      "execution_count": null,
      "outputs": [
        {
          "output_type": "stream",
          "name": "stdout",
          "text": [
            "   sl.no    regno     name   sub1     sub2\n",
            "0      1  23cs001  sukruta  maths  biology\n",
            "1      2  23cs002   bhoomi  maths  biology\n",
            "2      3  23cs003    sanvi  maths  biology\n",
            "   sl.no    regno     name   sub1     sub2\n",
            "0      1  23cs001  sukruta  maths  biology\n",
            "1      2  23cs002   bhoomi  maths  biology\n",
            "2      3  23cs003    sanvi  maths  biology\n",
            "   sl.no    regno     name   sub1     sub2\n",
            "0      1  23cs001  sukruta  maths  biology\n",
            "1      2  23cs002   bhoomi  maths  biology\n",
            "2      3  23cs003    sanvi  maths  biology\n"
          ]
        }
      ]
    },
    {
      "cell_type": "code",
      "source": [
        "import pandas as pd\n",
        "data={\n",
        "    'Name':['Alice','bob','charile'],\n",
        "    'Age':[25,30,35],\n",
        "    'city':['Delhi','Mumbai','bangalore']\n",
        "}\n",
        "df=pd.DataFrame(data)\n",
        "print(df['Name'])\n",
        "print(df.loc[0])\n",
        "print(df.iloc[1])\n"
      ],
      "metadata": {
        "colab": {
          "base_uri": "https://localhost:8080/"
        },
        "id": "-gvqIhElEfym",
        "outputId": "aad77a1f-3c8b-4d4e-b0bb-fce3c11a4ab3"
      },
      "execution_count": null,
      "outputs": [
        {
          "output_type": "stream",
          "name": "stdout",
          "text": [
            "0      Alice\n",
            "1        bob\n",
            "2    charile\n",
            "Name: Name, dtype: object\n",
            "Name    Alice\n",
            "Age        25\n",
            "city    Delhi\n",
            "Name: 0, dtype: object\n",
            "Name       bob\n",
            "Age         30\n",
            "city    Mumbai\n",
            "Name: 1, dtype: object\n"
          ]
        }
      ]
    },
    {
      "cell_type": "code",
      "source": [
        "import pandas as pd\n",
        "data={\n",
        "    'Name':['Alice','bob','charile'],\n",
        "    'Age':[25,30,35],\n",
        "    'city':['Delhi','Mumbai','bangalore']\n",
        "}\n",
        "df=pd.DataFrame(data)\n",
        "filtered=df[df['Age']>25]\n",
        "print(filtered)"
      ],
      "metadata": {
        "colab": {
          "base_uri": "https://localhost:8080/"
        },
        "id": "ud4aUY3kGrlp",
        "outputId": "ed359c94-d0ee-487c-f1e8-4c438a76b1be"
      },
      "execution_count": null,
      "outputs": [
        {
          "output_type": "stream",
          "name": "stdout",
          "text": [
            "      Name  Age       city\n",
            "1      bob   30     Mumbai\n",
            "2  charile   35  bangalore\n"
          ]
        }
      ]
    },
    {
      "cell_type": "code",
      "source": [
        "import pandas as pd\n",
        "data={\n",
        "    'Name':['Alice','bob','charile'],\n",
        "    'Age':[25,30,35],\n",
        "    'city':['Delhi','Mumbai','bangalore']\n",
        "}\n",
        "df=pd.DataFrame(data)\n",
        "df['salary']=[50000,60000,70000]\n",
        "df['Age']=df['Age']+1\n",
        "print(df)"
      ],
      "metadata": {
        "colab": {
          "base_uri": "https://localhost:8080/"
        },
        "id": "eh666dNWHJlG",
        "outputId": "014c39c0-db62-49ac-ae9b-3eaca17335ee"
      },
      "execution_count": null,
      "outputs": [
        {
          "output_type": "stream",
          "name": "stdout",
          "text": [
            "      Name  Age       city  salary\n",
            "0    Alice   26      Delhi   50000\n",
            "1      bob   31     Mumbai   60000\n",
            "2  charile   36  bangalore   70000\n"
          ]
        }
      ]
    },
    {
      "cell_type": "code",
      "source": [
        "import pandas as pd\n",
        "data={'name':['TOM','nick','krish','jack'],\n",
        "'Age':[20,21,19,18]}\n",
        "df=pd.DataFrame(data)\n",
        "print(df)"
      ],
      "metadata": {
        "colab": {
          "base_uri": "https://localhost:8080/"
        },
        "id": "pDtghx4Woaeh",
        "outputId": "efbbde7b-0560-4720-979d-6bd2459fcf56"
      },
      "execution_count": null,
      "outputs": [
        {
          "output_type": "stream",
          "name": "stdout",
          "text": [
            "    name  Age\n",
            "0    TOM   20\n",
            "1   nick   21\n",
            "2  krish   19\n",
            "3   jack   18\n"
          ]
        }
      ]
    },
    {
      "cell_type": "code",
      "source": [
        "import pandas as pd\n",
        "data={'Department':['HR','IT','FInance','HR','Finance','IT'],\n",
        "'Employee':['Alice','charlie','David','Eva','Frame','Frame'],\n",
        "'salary':[50000,30000,65000,70000,720000,55000],\n",
        "'Age':[25,30,28,32,40,38]}\n",
        "df=pd.DataFrame(data)\n",
        "print(df)\n"
      ],
      "metadata": {
        "colab": {
          "base_uri": "https://localhost:8080/"
        },
        "id": "emhGh1rctesL",
        "outputId": "22bdd2ea-aa47-4be8-9420-568a7c2f7dbe"
      },
      "execution_count": null,
      "outputs": [
        {
          "output_type": "stream",
          "name": "stdout",
          "text": [
            "  Department Employee  salary  Age\n",
            "0         HR    Alice   50000   25\n",
            "1         IT  charlie   30000   30\n",
            "2    FInance    David   65000   28\n",
            "3         HR      Eva   70000   32\n",
            "4    Finance    Frame  720000   40\n",
            "5         IT    Frame   55000   38\n"
          ]
        }
      ]
    },
    {
      "cell_type": "code",
      "source": [
        "import pandas as pd\n",
        "data={'Department':['HR','IT','FInance','HR','Finance','IT'],\n",
        "'Employee':['Alice','charlie','David','Eva','Frame','Frame'],\n",
        "'salary':[50000,30000,65000,70000,720000,55000],\n",
        "'Age':[25,30,28,32,40,38]}\n",
        "df=pd.DataFrame(data)\n",
        "print(df['salary'].mean())\n",
        "print(df['Age'].max())\n"
      ],
      "metadata": {
        "colab": {
          "base_uri": "https://localhost:8080/"
        },
        "outputId": "8f1dd690-e81c-42df-9d80-e7cc4633e7bc",
        "id": "35m-q-5Yxf_g"
      },
      "execution_count": null,
      "outputs": [
        {
          "output_type": "stream",
          "name": "stdout",
          "text": [
            "165000.0\n",
            "40\n"
          ]
        }
      ]
    },
    {
      "cell_type": "code",
      "source": [
        "import pandas as pd\n",
        "data={'Department':['HR','IT','FInance','HR','Finance','IT'],\n",
        "'Employee':['Alice','charlie','David','Eva','Frame','Frame'],\n",
        "'salary':[50000,30000,65000,70000,720000,55000],\n",
        "'Age':[25,30,28,32,40,38]}\n",
        "df=pd.DataFrame(data)\n",
        "grouped=df.groupby('Department')['salary'].mean()\n",
        "print(grouped)\n"
      ],
      "metadata": {
        "colab": {
          "base_uri": "https://localhost:8080/"
        },
        "outputId": "cf966d99-6ac9-42b0-ffa4-d722019af7b0",
        "id": "etfbKM1lyTJv"
      },
      "execution_count": null,
      "outputs": [
        {
          "output_type": "stream",
          "name": "stdout",
          "text": [
            "Department\n",
            "FInance     65000.0\n",
            "Finance    720000.0\n",
            "HR          60000.0\n",
            "IT          42500.0\n",
            "Name: salary, dtype: float64\n"
          ]
        }
      ]
    },
    {
      "cell_type": "code",
      "source": [],
      "metadata": {
        "id": "OnPrvqMkyqVH"
      },
      "execution_count": null,
      "outputs": []
    },
    {
      "cell_type": "code",
      "source": [
        "import pandas as pd\n",
        "data={'Department':['HR','IT','FInance','HR','Finance','IT'],\n",
        "'Employee':['Alice','charlie','David','Eva','Frame','Frame'],\n",
        "'salary':[50000,30000,65000,70000,720000,55000],\n",
        "'Age':[25,30,28,32,40,38]}\n",
        "df=pd.DataFrame(data)\n",
        "grouped=df.groupby('Department')['salary'].agg(['mean','max','min'])\n",
        "print(grouped)\n"
      ],
      "metadata": {
        "colab": {
          "base_uri": "https://localhost:8080/"
        },
        "outputId": "ee1b8091-d04e-4800-dda8-e8ad41d3c5e1",
        "id": "nYRkCqYS3Nya"
      },
      "execution_count": null,
      "outputs": [
        {
          "output_type": "stream",
          "name": "stdout",
          "text": [
            "                mean     max     min\n",
            "Department                          \n",
            "FInance      65000.0   65000   65000\n",
            "Finance     720000.0  720000  720000\n",
            "HR           60000.0   70000   50000\n",
            "IT           42500.0   55000   30000\n"
          ]
        }
      ]
    },
    {
      "cell_type": "code",
      "source": [
        "import pandas as pd\n",
        "data={'Department':['HR','IT','FInance','HR','Finance','IT'],\n",
        "'Employee':['Alice','charlie','David','Eva','Frame','Frame'],\n",
        "'salary':[50000,30000,65000,70000,720000,55000],\n",
        "'Age':[25,30,28,32,40,38]}\n",
        "df=pd.DataFrame(data)\n",
        "df['location']=['Mumbai','Delhi','Mumbai','Delhi','delhi','mumbai']\n",
        "grouped=df.groupby(['Department','location'])['salary'].mean()\n",
        "print(grouped)\n"
      ],
      "metadata": {
        "colab": {
          "base_uri": "https://localhost:8080/"
        },
        "outputId": "1c28b106-ceb2-44e8-9876-b9eafffeee70",
        "id": "UY2Hy2xK39hG"
      },
      "execution_count": null,
      "outputs": [
        {
          "output_type": "stream",
          "name": "stdout",
          "text": [
            "Department  location\n",
            "FInance     Mumbai       65000.0\n",
            "Finance     delhi       720000.0\n",
            "HR          Delhi        70000.0\n",
            "            Mumbai       50000.0\n",
            "IT          Delhi        30000.0\n",
            "            mumbai       55000.0\n",
            "Name: salary, dtype: float64\n"
          ]
        }
      ]
    },
    {
      "cell_type": "code",
      "source": [
        "import pandas as pd\n",
        "data={'Department':['HR','IT','FInance','HR','Finance','IT'],\n",
        "'Employee':['Alice','charlie','David','Eva','Frame','Frame'],\n",
        "'salary':[50000,30000,65000,70000,720000,55000],\n",
        "'Age':[25,30,28,32,40,38]}\n",
        "df=pd.DataFrame(data)\n",
        "df['location']=['Mumbai','Delhi','Mumbai','Delhi','delhi','mumbai']\n",
        "grouped=df.groupby(['Department','location'])['salary'].mean()\n",
        "print(grouped)\n"
      ],
      "metadata": {
        "colab": {
          "base_uri": "https://localhost:8080/"
        },
        "outputId": "1c28b106-ceb2-44e8-9876-b9eafffeee70",
        "id": "6djpJV4b6fQI"
      },
      "execution_count": null,
      "outputs": [
        {
          "output_type": "stream",
          "name": "stdout",
          "text": [
            "Department  location\n",
            "FInance     Mumbai       65000.0\n",
            "Finance     delhi       720000.0\n",
            "HR          Delhi        70000.0\n",
            "            Mumbai       50000.0\n",
            "IT          Delhi        30000.0\n",
            "            mumbai       55000.0\n",
            "Name: salary, dtype: float64\n"
          ]
        }
      ]
    },
    {
      "cell_type": "code",
      "source": [],
      "metadata": {
        "id": "o13U5k3J8JaY"
      },
      "execution_count": null,
      "outputs": []
    },
    {
      "cell_type": "code",
      "source": [
        "import pandas as pd\n",
        "data={'Department':['HR','IT','FInance','HR','Finance','IT'],\n",
        "'Employee':['Alice','charlie','David','Eva','Frame','Frame'],\n",
        "'salary':[50000,30000,65000,70000,720000,55000],\n",
        "'Age':[25,30,28,32,40,38]}\n",
        "df=pd.DataFrame(data)\n",
        "result=df.groupby('Department').agg({'salary':'mean','Age':['min','max']})\n",
        "print(result)\n"
      ],
      "metadata": {
        "colab": {
          "base_uri": "https://localhost:8080/"
        },
        "outputId": "d5e35b2b-c3d2-4c2a-ee12-e2438b656a58",
        "id": "biFk_k6F8h7n"
      },
      "execution_count": null,
      "outputs": [
        {
          "output_type": "stream",
          "name": "stdout",
          "text": [
            "              salary Age    \n",
            "                mean min max\n",
            "Department                  \n",
            "FInance      65000.0  28  28\n",
            "Finance     720000.0  40  40\n",
            "HR           60000.0  25  32\n",
            "IT           42500.0  30  38\n"
          ]
        }
      ]
    },
    {
      "cell_type": "code",
      "source": [
        "import pandas as pd\n",
        "d1={\"Name\":[\"pandas\",\"lisa\",\"David\"],\n",
        "    \"ID\":[1,2,3],\"Role\":[\"CEO\",\"Editor\",\"Audio\"]}\n",
        "df=pd.DataFrame(d1)\n",
        "print(df)\n",
        "df_melted=pd.melt(df,id_vars=[\"ID\"],\n",
        "value_vars=[\"Name\",\"Role\"])\n",
        "print(df_melted)"
      ],
      "metadata": {
        "id": "E9vltfhe94ko",
        "colab": {
          "base_uri": "https://localhost:8080/"
        },
        "outputId": "dadaaaac-c580-4e73-f272-75f994f0b6a3"
      },
      "execution_count": null,
      "outputs": [
        {
          "output_type": "stream",
          "name": "stdout",
          "text": [
            "     Name  ID    Role\n",
            "0  pandas   1     CEO\n",
            "1    lisa   2  Editor\n",
            "2   David   3   Audio\n",
            "   ID variable   value\n",
            "0   1     Name  pandas\n",
            "1   2     Name    lisa\n",
            "2   3     Name   David\n",
            "3   1     Role     CEO\n",
            "4   2     Role  Editor\n",
            "5   3     Role   Audio\n"
          ]
        }
      ]
    },
    {
      "cell_type": "code",
      "source": [
        "import pandas as pd\n",
        "data={'Date':['2024-01-01','2024-01-01','2024-01-02','2024-01-02'],\n",
        "      'city':['Mumbai','Delhi','Mumbai','Delhi'],\n",
        "      'Temperature':[33,28,34,27]}\n",
        "df=pd.DataFrame(data)\n",
        "print(\"Original:\\n\",df)\n",
        "pivoted=df.pivot(index='Date',columns='city',values='Temperature')\n",
        "print(\"\\n\",pivoted)"
      ],
      "metadata": {
        "colab": {
          "base_uri": "https://localhost:8080/"
        },
        "id": "npVb0aGm2nU3",
        "outputId": "e7946aaf-5622-40fe-dd76-71c098bb6726"
      },
      "execution_count": null,
      "outputs": [
        {
          "output_type": "stream",
          "name": "stdout",
          "text": [
            "Original:\n",
            "          Date    city  Temperature\n",
            "0  2024-01-01  Mumbai           33\n",
            "1  2024-01-01   Delhi           28\n",
            "2  2024-01-02  Mumbai           34\n",
            "3  2024-01-02   Delhi           27\n",
            "\n",
            " city        Delhi  Mumbai\n",
            "Date                     \n",
            "2024-01-01     28      33\n",
            "2024-01-02     27      34\n"
          ]
        }
      ]
    },
    {
      "cell_type": "code",
      "source": [
        "import pandas as pd\n",
        "data={'student':['Alice','Bob','charlie'],\n",
        "      'maths':[85,90,78],\n",
        "      'English':[75,80,72]}\n",
        "df=pd.DataFrame(data)\n",
        "print(\"Original wide DataFrame:\\n\",df)"
      ],
      "metadata": {
        "colab": {
          "base_uri": "https://localhost:8080/"
        },
        "id": "HwnrmGi747v1",
        "outputId": "52fe16c8-60a4-4928-a73e-a8aa1cc4f1ea"
      },
      "execution_count": null,
      "outputs": [
        {
          "output_type": "stream",
          "name": "stdout",
          "text": [
            "Original wide DataFrame:\n",
            "    student  maths  English\n",
            "0    Alice     85       75\n",
            "1      Bob     90       80\n",
            "2  charlie     78       72\n"
          ]
        }
      ]
    },
    {
      "cell_type": "code",
      "source": [
        "import pandas as pd\n",
        "melted_df=pd.melt(df,id_vars=['student'],var_name='subject',value_name='marks')\n",
        "print(\"\\n melted Long DataFrame:\\n\",melted_df)"
      ],
      "metadata": {
        "colab": {
          "base_uri": "https://localhost:8080/"
        },
        "id": "R96dEWCh56SU",
        "outputId": "ccb95059-6001-48c2-b95c-7eda507f63df"
      },
      "execution_count": null,
      "outputs": [
        {
          "output_type": "stream",
          "name": "stdout",
          "text": [
            "\n",
            " melted Long DataFrame:\n",
            "    student  subject  marks\n",
            "0    Alice    maths     85\n",
            "1      Bob    maths     90\n",
            "2  charlie    maths     78\n",
            "3    Alice  English     75\n",
            "4      Bob  English     80\n",
            "5  charlie  English     72\n"
          ]
        }
      ]
    },
    {
      "cell_type": "code",
      "source": [
        "import pandas as pdt\n",
        "import numpy as np\n",
        "dates=pd.date_range(start='2024-01-01',periods=10,freq='D')\n",
        "ts=pd.Series(np.random.rand(len(dates)))\n",
        "print(ts)"
      ],
      "metadata": {
        "colab": {
          "base_uri": "https://localhost:8080/"
        },
        "id": "eNGIykuQ6-v7",
        "outputId": "22092584-0497-4448-a3e0-64404413de21"
      },
      "execution_count": null,
      "outputs": [
        {
          "output_type": "stream",
          "name": "stdout",
          "text": [
            "0    0.355245\n",
            "1    0.839056\n",
            "2    0.841276\n",
            "3    0.739894\n",
            "4    0.307002\n",
            "5    0.932618\n",
            "6    0.525767\n",
            "7    0.768439\n",
            "8    0.895341\n",
            "9    0.488287\n",
            "dtype: float64\n"
          ]
        }
      ]
    },
    {
      "cell_type": "code",
      "source": [
        "df=pd.DataFrame({'Date':['2024-01-01','2024-01-02','2024-01-03'],\n",
        "                 'value':[120,135,150]})\n",
        "df['Date']=pd.to_datetime(df['Date'])\n",
        "print(df)"
      ],
      "metadata": {
        "colab": {
          "base_uri": "https://localhost:8080/"
        },
        "id": "sju8FoCO8BNi",
        "outputId": "d5b1a1ee-9b36-4b1a-e4d6-2aeb837981c4"
      },
      "execution_count": null,
      "outputs": [
        {
          "output_type": "stream",
          "name": "stdout",
          "text": [
            "        Date  value\n",
            "0 2024-01-01    120\n",
            "1 2024-01-02    135\n",
            "2 2024-01-03    150\n"
          ]
        }
      ]
    },
    {
      "cell_type": "code",
      "source": [
        "import pandas as pd\n",
        "import numpy as np\n",
        "# Generate date range (10 daily periods starting from Jan 1, 2024)\n",
        "dates = pd.date_range(start='2024-01-01', periods=10, freq='D')\n",
        "# Create a time series\n",
        "ts = pd.Series(np.random.randint(100, 200, size=10), index=dates)\n",
        "print(ts['2024-01-04'])\n",
        "print(ts['2024-01-03':'2024-01-07'])\n",
        "print(ts['2024-01'])"
      ],
      "metadata": {
        "colab": {
          "base_uri": "https://localhost:8080/"
        },
        "id": "TNf3atMy_Vqo",
        "outputId": "3ee09cb4-dd4d-4134-cf5c-dcad571f1088"
      },
      "execution_count": null,
      "outputs": [
        {
          "output_type": "stream",
          "name": "stdout",
          "text": [
            "177\n",
            "2024-01-03    105\n",
            "2024-01-04    177\n",
            "2024-01-05    138\n",
            "2024-01-06    195\n",
            "2024-01-07    190\n",
            "Freq: D, dtype: int64\n",
            "2024-01-01    192\n",
            "2024-01-02    161\n",
            "2024-01-03    105\n",
            "2024-01-04    177\n",
            "2024-01-05    138\n",
            "2024-01-06    195\n",
            "2024-01-07    190\n",
            "2024-01-08    170\n",
            "2024-01-09    194\n",
            "2024-01-10    175\n",
            "Freq: D, dtype: int64\n"
          ]
        }
      ]
    },
    {
      "cell_type": "code",
      "source": [
        "import pandas as pd\n",
        "import numpy as np\n",
        "from functools import reduce\n",
        "df=pd.DataFrame({'Name':['Alice','Bob','charlie','Davide'],\n",
        "                 'Age':[25,32,30,29],\n",
        "                 'salary':[50000,60000,55000,52000]})\n",
        "print(df)"
      ],
      "metadata": {
        "colab": {
          "base_uri": "https://localhost:8080/"
        },
        "id": "WzQ2ikrp_49O",
        "outputId": "8ed17ee3-d32e-4a4a-ca74-b1b8b0c59674"
      },
      "execution_count": null,
      "outputs": [
        {
          "output_type": "stream",
          "name": "stdout",
          "text": [
            "      Name  Age  salary\n",
            "0    Alice   25   50000\n",
            "1      Bob   32   60000\n",
            "2  charlie   30   55000\n",
            "3   Davide   29   52000\n"
          ]
        }
      ]
    },
    {
      "cell_type": "code",
      "source": [
        "import pandas as pd\n",
        "import numpy as np\n",
        "from functools import reduce\n",
        "df=pd.DataFrame({'Name':['Alice','Bob','charlie','Davide'],\n",
        "                 'Age':[25,32,30,29],\n",
        "                 'salary':[50000,60000,55000,52000]})\n",
        "df['updated_salary']=df['salary'].apply(lambda x:x*1.10)\n",
        "df['Age_group']=df['Age'].apply(lambda x:'Young' if x<30 else 'Adult')\n",
        "\n",
        "print(df)\n"
      ],
      "metadata": {
        "colab": {
          "base_uri": "https://localhost:8080/"
        },
        "outputId": "c77b8d36-ebe9-44a3-8512-37e8236bbf53",
        "id": "3adZA-cEDeqT"
      },
      "execution_count": null,
      "outputs": [
        {
          "output_type": "stream",
          "name": "stdout",
          "text": [
            "      Name  Age  salary  updated_salary Age_group\n",
            "0    Alice   25   50000         55000.0     Young\n",
            "1      Bob   32   60000         66000.0     Adult\n",
            "2  charlie   30   55000         60500.0     Adult\n",
            "3   Davide   29   52000         57200.0     Young\n"
          ]
        }
      ]
    },
    {
      "cell_type": "code",
      "source": [
        "import pandas as pd\n",
        "import numpy as np\n",
        "from functools import reduce\n",
        "df=pd.DataFrame({'Name':['Alice','Bob','charlie','Davide'],\n",
        "                 'Age':[25,32,30,29],\n",
        "                 'salary':[50000,60000,55000,52000]})\n",
        "df['Name_upper']=df['Name'].map(lambda x:x.upper())\n",
        "Salary_levels={50000:'Low',60000:'Medium',60000:'High'}\n",
        "df['Salary_levels']=df['salary'].map(Salary_levels)\n",
        "print(df)"
      ],
      "metadata": {
        "colab": {
          "base_uri": "https://localhost:8080/"
        },
        "id": "qfsNdq-hDzuC",
        "outputId": "1a948444-f7d8-4061-97fa-feb781b49a70"
      },
      "execution_count": null,
      "outputs": [
        {
          "output_type": "stream",
          "name": "stdout",
          "text": [
            "      Name  Age  salary Name_upper Salary_levels\n",
            "0    Alice   25   50000      ALICE           Low\n",
            "1      Bob   32   60000        BOB          High\n",
            "2  charlie   30   55000    CHARLIE           NaN\n",
            "3   Davide   29   52000     DAVIDE           NaN\n"
          ]
        }
      ]
    },
    {
      "cell_type": "code",
      "source": [
        "import pandas as pd\n",
        "import numpy as np\n",
        "from functools import reduce\n",
        "df=pd.DataFrame({'Name':['Alice','Bob','charlie','Davide'],\n",
        "                 'Age':[25,32,30,29],\n",
        "                 'salary':[50000,60000,55000,52000]})\n",
        "filtered_df=df[df['salary']>5200]\n",
        "filtered_df=df[df['Name'].apply(lambda x:x.startswith('A'))]\n",
        "print(filtered_df)"
      ],
      "metadata": {
        "colab": {
          "base_uri": "https://localhost:8080/"
        },
        "id": "5mIcoonOGozA",
        "outputId": "1dc9d70b-cfff-4269-98a4-2cb6c52333ee"
      },
      "execution_count": null,
      "outputs": [
        {
          "output_type": "stream",
          "name": "stdout",
          "text": [
            "    Name  Age  salary\n",
            "0  Alice   25   50000\n"
          ]
        }
      ]
    },
    {
      "cell_type": "code",
      "source": [
        "import pandas as pd\n",
        "import numpy as np\n",
        "from functools import reduce\n",
        "df=pd.DataFrame({'Name':['Alice','Bob','charlie','Davide'],\n",
        "                 'Age':[25,32,30,29],\n",
        "                 'salary':[50000,60000,55000,52000]})\n",
        "df['Name_Age']=df.apply(lambda row:reduce(lambda a,b:str(a)+'_'+str(b),[row['name'],row['age']]))\n",
        "print(df)"
      ],
      "metadata": {
        "colab": {
          "base_uri": "https://localhost:8080/",
          "height": 339
        },
        "id": "dV7bEqu0H9g_",
        "outputId": "a4ba67e0-8cbd-4948-cd4e-d6cc2bfc2da3"
      },
      "execution_count": null,
      "outputs": [
        {
          "output_type": "error",
          "ename": "KeyError",
          "evalue": "'name'",
          "traceback": [
            "\u001b[0;31m---------------------------------------------------------------------------\u001b[0m",
            "\u001b[0;31mKeyError\u001b[0m                                  Traceback (most recent call last)",
            "\u001b[0;32m/tmp/ipython-input-43-372603917.py\u001b[0m in \u001b[0;36m<cell line: 0>\u001b[0;34m()\u001b[0m\n\u001b[1;32m      5\u001b[0m                  \u001b[0;34m'Age'\u001b[0m\u001b[0;34m:\u001b[0m\u001b[0;34m[\u001b[0m\u001b[0;36m25\u001b[0m\u001b[0;34m,\u001b[0m\u001b[0;36m32\u001b[0m\u001b[0;34m,\u001b[0m\u001b[0;36m30\u001b[0m\u001b[0;34m,\u001b[0m\u001b[0;36m29\u001b[0m\u001b[0;34m]\u001b[0m\u001b[0;34m,\u001b[0m\u001b[0;34m\u001b[0m\u001b[0;34m\u001b[0m\u001b[0m\n\u001b[1;32m      6\u001b[0m                  'salary':[50000,60000,55000,52000]})\n\u001b[0;32m----> 7\u001b[0;31m \u001b[0mdf\u001b[0m\u001b[0;34m[\u001b[0m\u001b[0;34m'Name_Age'\u001b[0m\u001b[0;34m]\u001b[0m\u001b[0;34m=\u001b[0m\u001b[0mdf\u001b[0m\u001b[0;34m.\u001b[0m\u001b[0mapply\u001b[0m\u001b[0;34m(\u001b[0m\u001b[0;32mlambda\u001b[0m \u001b[0mrow\u001b[0m\u001b[0;34m:\u001b[0m\u001b[0mreduce\u001b[0m\u001b[0;34m(\u001b[0m\u001b[0;32mlambda\u001b[0m \u001b[0ma\u001b[0m\u001b[0;34m,\u001b[0m\u001b[0mb\u001b[0m\u001b[0;34m:\u001b[0m\u001b[0mstr\u001b[0m\u001b[0;34m(\u001b[0m\u001b[0ma\u001b[0m\u001b[0;34m)\u001b[0m\u001b[0;34m+\u001b[0m\u001b[0;34m'_'\u001b[0m\u001b[0;34m+\u001b[0m\u001b[0mstr\u001b[0m\u001b[0;34m(\u001b[0m\u001b[0mb\u001b[0m\u001b[0;34m)\u001b[0m\u001b[0;34m,\u001b[0m\u001b[0;34m[\u001b[0m\u001b[0mrow\u001b[0m\u001b[0;34m[\u001b[0m\u001b[0;34m'name'\u001b[0m\u001b[0;34m]\u001b[0m\u001b[0;34m,\u001b[0m\u001b[0mrow\u001b[0m\u001b[0;34m[\u001b[0m\u001b[0;34m'age'\u001b[0m\u001b[0;34m]\u001b[0m\u001b[0;34m]\u001b[0m\u001b[0;34m)\u001b[0m\u001b[0;34m)\u001b[0m\u001b[0;34m\u001b[0m\u001b[0;34m\u001b[0m\u001b[0m\n\u001b[0m\u001b[1;32m      8\u001b[0m \u001b[0mprint\u001b[0m\u001b[0;34m(\u001b[0m\u001b[0mdf\u001b[0m\u001b[0;34m)\u001b[0m\u001b[0;34m\u001b[0m\u001b[0;34m\u001b[0m\u001b[0m\n",
            "\u001b[0;32m/usr/local/lib/python3.11/dist-packages/pandas/core/frame.py\u001b[0m in \u001b[0;36mapply\u001b[0;34m(self, func, axis, raw, result_type, args, by_row, engine, engine_kwargs, **kwargs)\u001b[0m\n\u001b[1;32m  10372\u001b[0m             \u001b[0mkwargs\u001b[0m\u001b[0;34m=\u001b[0m\u001b[0mkwargs\u001b[0m\u001b[0;34m,\u001b[0m\u001b[0;34m\u001b[0m\u001b[0;34m\u001b[0m\u001b[0m\n\u001b[1;32m  10373\u001b[0m         )\n\u001b[0;32m> 10374\u001b[0;31m         \u001b[0;32mreturn\u001b[0m \u001b[0mop\u001b[0m\u001b[0;34m.\u001b[0m\u001b[0mapply\u001b[0m\u001b[0;34m(\u001b[0m\u001b[0;34m)\u001b[0m\u001b[0;34m.\u001b[0m\u001b[0m__finalize__\u001b[0m\u001b[0;34m(\u001b[0m\u001b[0mself\u001b[0m\u001b[0;34m,\u001b[0m \u001b[0mmethod\u001b[0m\u001b[0;34m=\u001b[0m\u001b[0;34m\"apply\"\u001b[0m\u001b[0;34m)\u001b[0m\u001b[0;34m\u001b[0m\u001b[0;34m\u001b[0m\u001b[0m\n\u001b[0m\u001b[1;32m  10375\u001b[0m \u001b[0;34m\u001b[0m\u001b[0m\n\u001b[1;32m  10376\u001b[0m     def map(\n",
            "\u001b[0;32m/usr/local/lib/python3.11/dist-packages/pandas/core/apply.py\u001b[0m in \u001b[0;36mapply\u001b[0;34m(self)\u001b[0m\n\u001b[1;32m    914\u001b[0m             \u001b[0;32mreturn\u001b[0m \u001b[0mself\u001b[0m\u001b[0;34m.\u001b[0m\u001b[0mapply_raw\u001b[0m\u001b[0;34m(\u001b[0m\u001b[0mengine\u001b[0m\u001b[0;34m=\u001b[0m\u001b[0mself\u001b[0m\u001b[0;34m.\u001b[0m\u001b[0mengine\u001b[0m\u001b[0;34m,\u001b[0m \u001b[0mengine_kwargs\u001b[0m\u001b[0;34m=\u001b[0m\u001b[0mself\u001b[0m\u001b[0;34m.\u001b[0m\u001b[0mengine_kwargs\u001b[0m\u001b[0;34m)\u001b[0m\u001b[0;34m\u001b[0m\u001b[0;34m\u001b[0m\u001b[0m\n\u001b[1;32m    915\u001b[0m \u001b[0;34m\u001b[0m\u001b[0m\n\u001b[0;32m--> 916\u001b[0;31m         \u001b[0;32mreturn\u001b[0m \u001b[0mself\u001b[0m\u001b[0;34m.\u001b[0m\u001b[0mapply_standard\u001b[0m\u001b[0;34m(\u001b[0m\u001b[0;34m)\u001b[0m\u001b[0;34m\u001b[0m\u001b[0;34m\u001b[0m\u001b[0m\n\u001b[0m\u001b[1;32m    917\u001b[0m \u001b[0;34m\u001b[0m\u001b[0m\n\u001b[1;32m    918\u001b[0m     \u001b[0;32mdef\u001b[0m \u001b[0magg\u001b[0m\u001b[0;34m(\u001b[0m\u001b[0mself\u001b[0m\u001b[0;34m)\u001b[0m\u001b[0;34m:\u001b[0m\u001b[0;34m\u001b[0m\u001b[0;34m\u001b[0m\u001b[0m\n",
            "\u001b[0;32m/usr/local/lib/python3.11/dist-packages/pandas/core/apply.py\u001b[0m in \u001b[0;36mapply_standard\u001b[0;34m(self)\u001b[0m\n\u001b[1;32m   1061\u001b[0m     \u001b[0;32mdef\u001b[0m \u001b[0mapply_standard\u001b[0m\u001b[0;34m(\u001b[0m\u001b[0mself\u001b[0m\u001b[0;34m)\u001b[0m\u001b[0;34m:\u001b[0m\u001b[0;34m\u001b[0m\u001b[0;34m\u001b[0m\u001b[0m\n\u001b[1;32m   1062\u001b[0m         \u001b[0;32mif\u001b[0m \u001b[0mself\u001b[0m\u001b[0;34m.\u001b[0m\u001b[0mengine\u001b[0m \u001b[0;34m==\u001b[0m \u001b[0;34m\"python\"\u001b[0m\u001b[0;34m:\u001b[0m\u001b[0;34m\u001b[0m\u001b[0;34m\u001b[0m\u001b[0m\n\u001b[0;32m-> 1063\u001b[0;31m             \u001b[0mresults\u001b[0m\u001b[0;34m,\u001b[0m \u001b[0mres_index\u001b[0m \u001b[0;34m=\u001b[0m \u001b[0mself\u001b[0m\u001b[0;34m.\u001b[0m\u001b[0mapply_series_generator\u001b[0m\u001b[0;34m(\u001b[0m\u001b[0;34m)\u001b[0m\u001b[0;34m\u001b[0m\u001b[0;34m\u001b[0m\u001b[0m\n\u001b[0m\u001b[1;32m   1064\u001b[0m         \u001b[0;32melse\u001b[0m\u001b[0;34m:\u001b[0m\u001b[0;34m\u001b[0m\u001b[0;34m\u001b[0m\u001b[0m\n\u001b[1;32m   1065\u001b[0m             \u001b[0mresults\u001b[0m\u001b[0;34m,\u001b[0m \u001b[0mres_index\u001b[0m \u001b[0;34m=\u001b[0m \u001b[0mself\u001b[0m\u001b[0;34m.\u001b[0m\u001b[0mapply_series_numba\u001b[0m\u001b[0;34m(\u001b[0m\u001b[0;34m)\u001b[0m\u001b[0;34m\u001b[0m\u001b[0;34m\u001b[0m\u001b[0m\n",
            "\u001b[0;32m/usr/local/lib/python3.11/dist-packages/pandas/core/apply.py\u001b[0m in \u001b[0;36mapply_series_generator\u001b[0;34m(self)\u001b[0m\n\u001b[1;32m   1079\u001b[0m             \u001b[0;32mfor\u001b[0m \u001b[0mi\u001b[0m\u001b[0;34m,\u001b[0m \u001b[0mv\u001b[0m \u001b[0;32min\u001b[0m \u001b[0menumerate\u001b[0m\u001b[0;34m(\u001b[0m\u001b[0mseries_gen\u001b[0m\u001b[0;34m)\u001b[0m\u001b[0;34m:\u001b[0m\u001b[0;34m\u001b[0m\u001b[0;34m\u001b[0m\u001b[0m\n\u001b[1;32m   1080\u001b[0m                 \u001b[0;31m# ignore SettingWithCopy here in case the user mutates\u001b[0m\u001b[0;34m\u001b[0m\u001b[0;34m\u001b[0m\u001b[0m\n\u001b[0;32m-> 1081\u001b[0;31m                 \u001b[0mresults\u001b[0m\u001b[0;34m[\u001b[0m\u001b[0mi\u001b[0m\u001b[0;34m]\u001b[0m \u001b[0;34m=\u001b[0m \u001b[0mself\u001b[0m\u001b[0;34m.\u001b[0m\u001b[0mfunc\u001b[0m\u001b[0;34m(\u001b[0m\u001b[0mv\u001b[0m\u001b[0;34m,\u001b[0m \u001b[0;34m*\u001b[0m\u001b[0mself\u001b[0m\u001b[0;34m.\u001b[0m\u001b[0margs\u001b[0m\u001b[0;34m,\u001b[0m \u001b[0;34m**\u001b[0m\u001b[0mself\u001b[0m\u001b[0;34m.\u001b[0m\u001b[0mkwargs\u001b[0m\u001b[0;34m)\u001b[0m\u001b[0;34m\u001b[0m\u001b[0;34m\u001b[0m\u001b[0m\n\u001b[0m\u001b[1;32m   1082\u001b[0m                 \u001b[0;32mif\u001b[0m \u001b[0misinstance\u001b[0m\u001b[0;34m(\u001b[0m\u001b[0mresults\u001b[0m\u001b[0;34m[\u001b[0m\u001b[0mi\u001b[0m\u001b[0;34m]\u001b[0m\u001b[0;34m,\u001b[0m \u001b[0mABCSeries\u001b[0m\u001b[0;34m)\u001b[0m\u001b[0;34m:\u001b[0m\u001b[0;34m\u001b[0m\u001b[0;34m\u001b[0m\u001b[0m\n\u001b[1;32m   1083\u001b[0m                     \u001b[0;31m# If we have a view on v, we need to make a copy because\u001b[0m\u001b[0;34m\u001b[0m\u001b[0;34m\u001b[0m\u001b[0m\n",
            "\u001b[0;32m/tmp/ipython-input-43-372603917.py\u001b[0m in \u001b[0;36m<lambda>\u001b[0;34m(row)\u001b[0m\n\u001b[1;32m      5\u001b[0m                  \u001b[0;34m'Age'\u001b[0m\u001b[0;34m:\u001b[0m\u001b[0;34m[\u001b[0m\u001b[0;36m25\u001b[0m\u001b[0;34m,\u001b[0m\u001b[0;36m32\u001b[0m\u001b[0;34m,\u001b[0m\u001b[0;36m30\u001b[0m\u001b[0;34m,\u001b[0m\u001b[0;36m29\u001b[0m\u001b[0;34m]\u001b[0m\u001b[0;34m,\u001b[0m\u001b[0;34m\u001b[0m\u001b[0;34m\u001b[0m\u001b[0m\n\u001b[1;32m      6\u001b[0m                  'salary':[50000,60000,55000,52000]})\n\u001b[0;32m----> 7\u001b[0;31m \u001b[0mdf\u001b[0m\u001b[0;34m[\u001b[0m\u001b[0;34m'Name_Age'\u001b[0m\u001b[0;34m]\u001b[0m\u001b[0;34m=\u001b[0m\u001b[0mdf\u001b[0m\u001b[0;34m.\u001b[0m\u001b[0mapply\u001b[0m\u001b[0;34m(\u001b[0m\u001b[0;32mlambda\u001b[0m \u001b[0mrow\u001b[0m\u001b[0;34m:\u001b[0m\u001b[0mreduce\u001b[0m\u001b[0;34m(\u001b[0m\u001b[0;32mlambda\u001b[0m \u001b[0ma\u001b[0m\u001b[0;34m,\u001b[0m\u001b[0mb\u001b[0m\u001b[0;34m:\u001b[0m\u001b[0mstr\u001b[0m\u001b[0;34m(\u001b[0m\u001b[0ma\u001b[0m\u001b[0;34m)\u001b[0m\u001b[0;34m+\u001b[0m\u001b[0;34m'_'\u001b[0m\u001b[0;34m+\u001b[0m\u001b[0mstr\u001b[0m\u001b[0;34m(\u001b[0m\u001b[0mb\u001b[0m\u001b[0;34m)\u001b[0m\u001b[0;34m,\u001b[0m\u001b[0;34m[\u001b[0m\u001b[0mrow\u001b[0m\u001b[0;34m[\u001b[0m\u001b[0;34m'name'\u001b[0m\u001b[0;34m]\u001b[0m\u001b[0;34m,\u001b[0m\u001b[0mrow\u001b[0m\u001b[0;34m[\u001b[0m\u001b[0;34m'age'\u001b[0m\u001b[0;34m]\u001b[0m\u001b[0;34m]\u001b[0m\u001b[0;34m)\u001b[0m\u001b[0;34m)\u001b[0m\u001b[0;34m\u001b[0m\u001b[0;34m\u001b[0m\u001b[0m\n\u001b[0m\u001b[1;32m      8\u001b[0m \u001b[0mprint\u001b[0m\u001b[0;34m(\u001b[0m\u001b[0mdf\u001b[0m\u001b[0;34m)\u001b[0m\u001b[0;34m\u001b[0m\u001b[0;34m\u001b[0m\u001b[0m\n",
            "\u001b[0;32m/usr/local/lib/python3.11/dist-packages/pandas/core/series.py\u001b[0m in \u001b[0;36m__getitem__\u001b[0;34m(self, key)\u001b[0m\n\u001b[1;32m   1119\u001b[0m \u001b[0;34m\u001b[0m\u001b[0m\n\u001b[1;32m   1120\u001b[0m         \u001b[0;32melif\u001b[0m \u001b[0mkey_is_scalar\u001b[0m\u001b[0;34m:\u001b[0m\u001b[0;34m\u001b[0m\u001b[0;34m\u001b[0m\u001b[0m\n\u001b[0;32m-> 1121\u001b[0;31m             \u001b[0;32mreturn\u001b[0m \u001b[0mself\u001b[0m\u001b[0;34m.\u001b[0m\u001b[0m_get_value\u001b[0m\u001b[0;34m(\u001b[0m\u001b[0mkey\u001b[0m\u001b[0;34m)\u001b[0m\u001b[0;34m\u001b[0m\u001b[0;34m\u001b[0m\u001b[0m\n\u001b[0m\u001b[1;32m   1122\u001b[0m \u001b[0;34m\u001b[0m\u001b[0m\n\u001b[1;32m   1123\u001b[0m         \u001b[0;31m# Convert generator to list before going through hashable part\u001b[0m\u001b[0;34m\u001b[0m\u001b[0;34m\u001b[0m\u001b[0m\n",
            "\u001b[0;32m/usr/local/lib/python3.11/dist-packages/pandas/core/series.py\u001b[0m in \u001b[0;36m_get_value\u001b[0;34m(self, label, takeable)\u001b[0m\n\u001b[1;32m   1235\u001b[0m \u001b[0;34m\u001b[0m\u001b[0m\n\u001b[1;32m   1236\u001b[0m         \u001b[0;31m# Similar to Index.get_value, but we do not fall back to positional\u001b[0m\u001b[0;34m\u001b[0m\u001b[0;34m\u001b[0m\u001b[0m\n\u001b[0;32m-> 1237\u001b[0;31m         \u001b[0mloc\u001b[0m \u001b[0;34m=\u001b[0m \u001b[0mself\u001b[0m\u001b[0;34m.\u001b[0m\u001b[0mindex\u001b[0m\u001b[0;34m.\u001b[0m\u001b[0mget_loc\u001b[0m\u001b[0;34m(\u001b[0m\u001b[0mlabel\u001b[0m\u001b[0;34m)\u001b[0m\u001b[0;34m\u001b[0m\u001b[0;34m\u001b[0m\u001b[0m\n\u001b[0m\u001b[1;32m   1238\u001b[0m \u001b[0;34m\u001b[0m\u001b[0m\n\u001b[1;32m   1239\u001b[0m         \u001b[0;32mif\u001b[0m \u001b[0mis_integer\u001b[0m\u001b[0;34m(\u001b[0m\u001b[0mloc\u001b[0m\u001b[0;34m)\u001b[0m\u001b[0;34m:\u001b[0m\u001b[0;34m\u001b[0m\u001b[0;34m\u001b[0m\u001b[0m\n",
            "\u001b[0;32m/usr/local/lib/python3.11/dist-packages/pandas/core/indexes/range.py\u001b[0m in \u001b[0;36mget_loc\u001b[0;34m(self, key)\u001b[0m\n\u001b[1;32m    415\u001b[0m                 \u001b[0;32mraise\u001b[0m \u001b[0mKeyError\u001b[0m\u001b[0;34m(\u001b[0m\u001b[0mkey\u001b[0m\u001b[0;34m)\u001b[0m \u001b[0;32mfrom\u001b[0m \u001b[0merr\u001b[0m\u001b[0;34m\u001b[0m\u001b[0;34m\u001b[0m\u001b[0m\n\u001b[1;32m    416\u001b[0m         \u001b[0;32mif\u001b[0m \u001b[0misinstance\u001b[0m\u001b[0;34m(\u001b[0m\u001b[0mkey\u001b[0m\u001b[0;34m,\u001b[0m \u001b[0mHashable\u001b[0m\u001b[0;34m)\u001b[0m\u001b[0;34m:\u001b[0m\u001b[0;34m\u001b[0m\u001b[0;34m\u001b[0m\u001b[0m\n\u001b[0;32m--> 417\u001b[0;31m             \u001b[0;32mraise\u001b[0m \u001b[0mKeyError\u001b[0m\u001b[0;34m(\u001b[0m\u001b[0mkey\u001b[0m\u001b[0;34m)\u001b[0m\u001b[0;34m\u001b[0m\u001b[0;34m\u001b[0m\u001b[0m\n\u001b[0m\u001b[1;32m    418\u001b[0m         \u001b[0mself\u001b[0m\u001b[0;34m.\u001b[0m\u001b[0m_check_indexing_error\u001b[0m\u001b[0;34m(\u001b[0m\u001b[0mkey\u001b[0m\u001b[0;34m)\u001b[0m\u001b[0;34m\u001b[0m\u001b[0;34m\u001b[0m\u001b[0m\n\u001b[1;32m    419\u001b[0m         \u001b[0;32mraise\u001b[0m \u001b[0mKeyError\u001b[0m\u001b[0;34m(\u001b[0m\u001b[0mkey\u001b[0m\u001b[0;34m)\u001b[0m\u001b[0;34m\u001b[0m\u001b[0;34m\u001b[0m\u001b[0m\n",
            "\u001b[0;31mKeyError\u001b[0m: 'name'"
          ]
        }
      ]
    }
  ]
}